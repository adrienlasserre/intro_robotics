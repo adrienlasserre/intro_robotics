{
  "nbformat": 4,
  "nbformat_minor": 0,
  "metadata": {
    "colab": {
      "name": "LASSERRE_Foward_Kinematics_IR_ECAM01.ipyn",
      "provenance": []
    },
    "kernelspec": {
      "name": "python3",
      "display_name": "Python 3"
    },
    "language_info": {
      "name": "python"
    }
  },
  "cells": [
    {
      "cell_type": "markdown",
      "source": [
        "# Introduction to Robotics \n",
        "Instructor: **Voeurn Yong Ann**\n",
        "\n",
        "\n",
        "**Background**:\n",
        "\n",
        "\n",
        "\n",
        "*   Ufa state aviation technical university (Bsc. Mechatronics and Robotics, profile: Industrail robotics, 2018), \n",
        "*   Innopolis University,(Master of Computer Science, profile: Robotics and computer vision, 2019-2021) \n",
        "*   Daegu Gyeongbuk Institute of Science and Technology (DGIST),(PhD of Robotics engineer, profile:legged robotics in medical application, 2021(*Temporery withdrawal*) \n",
        "\n",
        "\n",
        "**Research interests**:\n",
        "*   Control: Nonlinear, Robust, Adaptive, Energy based, Noncolocated and Underactuated, with focus on discrete-time and physically inspired numerical methods.\n",
        "*   Applied Optimization: Linear, Quadratic, and Nonlinear programming, Dynamical programming, Optimal Control\n",
        "*   Legged robot/Humanoid robot: Walking, foot step, trajectory planing \n",
        "\n",
        "\n",
        "If you face any problems with the course or would like to do research and work on hardware. Feel free to contact me via telegram `@yongann` or email:(y.voeurn@innoplis.univerisity or yongann@armrobotics.io) i\n",
        "\n",
        "\n",
        "**Notation**\n",
        "\n",
        "1.   *CLASS EXERCISE*: These exercises we will do together during the practice sessions and discuss the results\n",
        "2.   *HW EXERCISE*: This is home assignment which I strongly recommend to complete right after the class.\n",
        "\n",
        "*You have to create a repository of your works then share the link to submit your work at Moodle.*\n",
        "\n",
        "\n",
        "***Plagiarism** will result in a zero score for the submitted assignment/exam/project.\n",
        "\n",
        "\n"
      ],
      "metadata": {
        "id": "kLPQ9GGhE-jj"
      }
    },
    {
      "cell_type": "markdown",
      "source": [
        "# LAB2: Foward Kinematics\n",
        "\n",
        "\n",
        "**Goals for today**\n",
        "During today practice we will:\n",
        "\n",
        "*   Kinematics Chain \n",
        "*   Forward kinematics\n",
        "*   URDF\n",
        "*   Denavit Hartenberg"
      ],
      "metadata": {
        "id": "wo7zs1vFHLLv"
      }
    },
    {
      "cell_type": "markdown",
      "source": [
        "**Class Excercise**: \n",
        "\n",
        "Excercise 1 : Foward Kinematics \n",
        "\n",
        "<p><img alt=\"mbk\" height=\"250px\" src=\"https://drive.google.com/uc?id=1nW9EoufpRs15Lv3joMrzlJQahnQbQ4D3\" align=\"center\" hspace=\"350px\" vspace=\"0px\"></p>\n",
        "\n",
        "\n",
        "1. Calculate Foward kinematics using geometrical approach \n",
        "2. Implement the your result \n",
        "3. Find the end effector position of d1*=0.5m, $θ_1$= 45, d3* = 2m\n",
        "\n",
        "\n"
      ],
      "metadata": {
        "id": "KPnf9DwDNbP0"
      }
    },
    {
      "cell_type": "code",
      "source": [
        "import numpy as np\n",
        "\n",
        "d2=1\n",
        "\n",
        "H=np.array([(d2+2)*np.cos(np.pi/4), (d2+2)*np.sin(np.pi/4), 0.5])\n",
        "\n",
        "print(H)\n"
      ],
      "metadata": {
        "id": "lgl7c-VAVda2",
        "colab": {
          "base_uri": "https://localhost:8080/"
        },
        "outputId": "1e230491-0c27-4088-c564-96b8e03cbf86"
      },
      "execution_count": null,
      "outputs": [
        {
          "output_type": "stream",
          "name": "stdout",
          "text": [
            "[2.12132034 2.12132034 0.5       ]\n"
          ]
        }
      ]
    },
    {
      "cell_type": "code",
      "source": [
        "# your code here "
      ],
      "metadata": {
        "id": "0c82HQNiWtP1",
        "colab": {
          "base_uri": "https://localhost:8080/"
        },
        "outputId": "e95205d5-1cf2-4bd0-f897-8de40b676f17"
      },
      "execution_count": null,
      "outputs": [
        {
          "output_type": "stream",
          "name": "stdout",
          "text": [
            "[[-0.44807362 -0.89399666  0.        ]\n",
            " [ 0.89399666 -0.44807362  0.        ]\n",
            " [ 0.          0.          0.        ]]\n"
          ]
        }
      ]
    },
    {
      "cell_type": "markdown",
      "source": [
        "Excercise 2 : \n",
        " \n",
        "\n",
        "1.   Define the homogeneous transformation matrix of a RRR articulate Robot(fig. below) \n",
        "2. Implement your result analytical solution \n",
        "3. Find tool pose(position and oriantation) at q = (0,90,45)\n",
        "\n",
        "\n",
        "\n",
        "\n",
        "\n",
        "\n",
        "<p><img alt=\"mbk\" height=\"250px\" src=\"https://drive.google.com/uc?id=11h-RN2gfctvCXUubLZtMtYzFSSIx0Wag\" align=\"center\" hspace=\"350px\" vspace=\"0px\"></p>\n"
      ],
      "metadata": {
        "id": "M158kdPZVFYQ"
      }
    },
    {
      "cell_type": "code",
      "source": [
        "import numpy as np\n",
        "\n",
        "def rotz(phi):\n",
        "  Rz=np.array([[np.cos(phi), -np.sin(phi), 0, 0], [np.sin(phi), np.cos(phi), 0, 0], [0, 0, 1, 0], [0, 0, 0, 1]])\n",
        "  return Rz\n",
        "\n",
        "def roty(x):\n",
        "  Ry=np.array([[np.cos(x), 0, np.sin(x), 0], [0, 1, 0, 0], [-np.sin(x), 0, np.cos(x), 0], [0, 0, 0, 1]])\n",
        "  return Ry\n",
        "\n",
        "def trans(x):\n",
        "  H1=np.array([[1, 0, 0, x[0]], [0, 1, 0, x[1]], [0, 0, 1, x[2]], [0, 0, 0, 1]])\n",
        "  return H1\n",
        "\n",
        "x1=[0, 0, 2]\n",
        "x2=[2, 0, 0]\n",
        "x3=[2, 0, 0]\n",
        "\n",
        "H2=np.dot(rotz(0),np.dot(trans(x1),np.dot(roty(-np.pi/2),np.dot(trans(x2),np.dot(roty(-np.pi/4),trans(x3))))))\n",
        "\n",
        "print(H2)\n"
      ],
      "metadata": {
        "id": "jFYBi4F6XFtU",
        "colab": {
          "base_uri": "https://localhost:8080/"
        },
        "outputId": "dca84d21-b75a-44b3-e0f2-fca150e933ac"
      },
      "execution_count": null,
      "outputs": [
        {
          "output_type": "stream",
          "name": "stdout",
          "text": [
            "[[-0.70710678  0.         -0.70710678 -1.41421356]\n",
            " [ 0.          1.          0.          0.        ]\n",
            " [ 0.70710678  0.         -0.70710678  5.41421356]\n",
            " [ 0.          0.          0.          1.        ]]\n"
          ]
        }
      ]
    },
    {
      "cell_type": "markdown",
      "source": [
        "**Class Excercise 3** : \n",
        "\n",
        "4. Define DH table of RRR articulate Robot(fig. 3.27)\n",
        "5. Implement your result from DH table \n",
        "6. Find tool pose(position and oriantation) at q = (30,45,45)"
      ],
      "metadata": {
        "id": "os398Nq1fLiH"
      }
    },
    {
      "cell_type": "markdown",
      "source": [
        "\n",
        "<p><img alt=\"mbk\" height=\"250px\" src=\"https://drive.google.com/uc?id=11h-RN2gfctvCXUubLZtMtYzFSSIx0Wag\" align=\"center\" hspace=\"350px\" vspace=\"0px\"></p>\n"
      ],
      "metadata": {
        "id": "C6kOc7si6Ry4"
      }
    },
    {
      "cell_type": "code",
      "source": [
        "import numpy as np\n",
        "\n",
        "def hartenberg(r_n, d_n, theta_n, alpha_n):\n",
        "  H=np.array([[np.cos(theta_n), -np.sin(theta_n)*np.cos(alpha_n), np.sin(theta_n)*np.sin(alpha_n), r_n*np.cos(theta_n)], [np.sin(theta_n), np.cos(theta_n)*np.cos(alpha_n), -np.cos(theta_n)*np.sin(alpha_n), r_n*np.sin(theta_n)], [0, np.sin(alpha_n), np.cos(alpha_n), d_n], [0, 0, 0, 1]])\n",
        "  return H\n",
        "\n",
        "H1=hartenberg(0, 2, np.pi/4, -np.pi/2)\n",
        "H2=hartenberg(2,0, np.pi/4, 0)\n",
        "H3=hartenberg(2, 0, np.pi/4, 0)\n",
        "H=np.dot(H1, np.dot(H2, H3))\n",
        "\n",
        "print(H)\n"
      ],
      "metadata": {
        "id": "19BFU7MIqRe_",
        "colab": {
          "base_uri": "https://localhost:8080/"
        },
        "outputId": "57015535-a49f-4575-d232-6f8b5cd51ea2"
      },
      "execution_count": null,
      "outputs": [
        {
          "output_type": "stream",
          "name": "stdout",
          "text": [
            "[[ 9.78926560e-17 -7.07106781e-01 -7.07106781e-01  1.00000000e+00]\n",
            " [ 1.84488262e-16 -7.07106781e-01  7.07106781e-01  1.00000000e+00]\n",
            " [-1.00000000e+00 -1.79380389e-16  6.12323400e-17 -1.41421356e+00]\n",
            " [ 0.00000000e+00  0.00000000e+00  0.00000000e+00  1.00000000e+00]]\n"
          ]
        }
      ]
    },
    {
      "cell_type": "markdown",
      "source": [
        "**Class Excercise** : \n",
        "\n",
        "URDF: http://www.mymodelrobot.appspot.com/\n",
        "\n",
        "\n",
        "\n",
        "\n",
        "\n",
        "\n",
        "\n"
      ],
      "metadata": {
        "id": "c1H60xeejnn9"
      }
    },
    {
      "cell_type": "markdown",
      "source": [
        "**HW Excercise 1** (30 pts): \n",
        "\n",
        "\n",
        "\n",
        "<p><img alt=\"mbk\" height=\"250px\" src=\"https://drive.google.com/uc?id=1jjAQ1it7MeCk0E85wTNSL0hN1MtFCcPe\" align=\"center\" hspace=\"350px\" vspace=\"0px\"></p>\n",
        "\n",
        "\n",
        "1. Calculate Foward kinematics using geometrical approach where L1= 1 m, L2 = 0.3, L3=0.5\n",
        "2. Implement the your result \n",
        "3. find tool coordinate (θ1 = 45; D2= 0.1;θ3 = 30)\n",
        "\n",
        "\n"
      ],
      "metadata": {
        "id": "nvIn_LdvrWFF"
      }
    },
    {
      "cell_type": "markdown",
      "source": [
        "**Answer 1.**\n",
        "$H=H1*H2*H3$\n",
        "with the following table:\n",
        "\n",
        "![image.png](data:image/png;base64,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)\n",
        "\n",
        "In fact, to explain a bit more, for the first link, I considered that alpha was positive and with 90° as z0 is upwards and z1 is the axis of sliding, horizontal.\n",
        "Then theta0 is just the rotation, d_n is the sliding on z so 0 and r_n is the sliding in x, I put the length of Link1 so L1.\n",
        "\n",
        "For the second, I used -90° for alpha as we reverse the rotation of z axis from z1 to z2 compared to z0-z1. theta is null as there is no rotation. d_n is d2+L2 as there is the link length and the displacement on the axis combined. r_n is 0 as we only slide one way with no rotation.\n",
        "\n",
        "Finally for the last link, we have alpha to be 0 as we just slide to the end-hand effector. theta is theta3 the rotation, d_n is sliding in z so 0. And then, r_n is the sliding in length in x axis so L3."
      ],
      "metadata": {
        "id": "G_SHZFk2UFkT"
      }
    },
    {
      "cell_type": "code",
      "source": [
        "import numpy as np\n",
        "\n",
        "def hartenberg(r_n, d_n, theta_n, alpha_n):\n",
        "  H=np.array([[np.cos(theta_n), -np.sin(theta_n)*np.cos(alpha_n), np.sin(theta_n)*np.sin(alpha_n), r_n*np.cos(theta_n)], [np.sin(theta_n), np.cos(theta_n)*np.cos(alpha_n), -np.cos(theta_n)*np.sin(alpha_n), r_n*np.sin(theta_n)], [0, np.sin(alpha_n), np.cos(alpha_n), d_n], [0, 0, 0, 1]])\n",
        "  return H\n",
        "\n",
        "D2=0.1\n",
        "L2=0.3\n",
        "displacement=D2+L2\n",
        "\n",
        "H1=hartenberg(1, 0, np.pi/4, np.pi/2)\n",
        "H2=hartenberg(0, displacement, 0, -np.pi/2)\n",
        "H3=hartenberg(0.5, 0, np.pi/6, 0)\n",
        "\n",
        "H=np.dot(H1, np.dot(H2, H3))\n",
        "print(H)"
      ],
      "metadata": {
        "colab": {
          "base_uri": "https://localhost:8080/"
        },
        "id": "rB2ZJq4C0y40",
        "outputId": "797fcff5-b1e8-4520-e416-32022b44d4d2"
      },
      "execution_count": 2,
      "outputs": [
        {
          "output_type": "stream",
          "name": "stdout",
          "text": [
            "[[ 2.58819045e-01 -9.65925826e-01  3.01573569e-33  1.11935902e+00]\n",
            " [ 9.65925826e-01  2.58819045e-01  2.51206059e-33  9.07226982e-01]\n",
            " [-2.76389814e-33 -2.76012034e-33  1.00000000e+00  2.44929360e-17]\n",
            " [ 0.00000000e+00  0.00000000e+00  0.00000000e+00  1.00000000e+00]]\n"
          ]
        }
      ]
    },
    {
      "cell_type": "markdown",
      "source": [
        "**HW Excercise 2** (30 pts): \n",
        " \n",
        "\n",
        "1.   Define the homogeneous transformation matrix of a Universal Robot(fig. below) (whichever we want for the initial) - UR 10 Datasheet\n",
        "2. Implement your result analytical solution \n",
        "3. Find tool pose(position and orientation) at q = (0,90,45,0,45,0)\n",
        "\n",
        "\n",
        "\n",
        "\n",
        "\n",
        "<p><img alt=\"mbk\" height=\"250px\" src=\"https://asd.sutd.edu.sg/dfab/wp-content/uploads/2014/07/ur10-11.png\" align=\"center\" hspace=\"350px\" vspace=\"0px\"></p>"
      ],
      "metadata": {
        "id": "DkvYlIXqqY6i"
      }
    },
    {
      "cell_type": "markdown",
      "source": [
        "**Answer 2.**\n",
        "1. I took the datasheet for DR10 on the internet for lengths.\n",
        "\n",
        "The scheme i thought about goes like this :\n",
        "Rz (base), Tz (to the next joint), Rx (about x), Tz (go to the elbow from the shoulder), Rx (rotatio about the elbow x), Tz (go to the wrist 1 from elbow), Rx (rotate wrist 1), Tx (translate x to the wrist 2), Rz (rotate wrist 2), Tz (go to wrist 3), Rx (wrist 3 rotation), Tx (end hand effector)\n",
        "\n",
        ".\n",
        "\n",
        "![image.png](data:image/png;base64,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)"
      ],
      "metadata": {
        "id": "BGXHpB2JY2Y0"
      }
    },
    {
      "cell_type": "code",
      "source": [
        "import numpy as np\n",
        "\n",
        "def rotz(x):\n",
        "  Rz=np.array([[np.cos(x), -np.sin(x), 0, 0], [np.sin(x), np.cos(x), 0, 0], [0, 0, 1, 0], [0, 0, 0, 1]])\n",
        "  return Rz\n",
        "\n",
        "def roty(x):\n",
        "  Ry=np.array([[np.cos(x), 0, np.sin(x), 0], [0, 1, 0, 0], [-np.sin(x), 0, np.cos(x), 0], [0, 0, 0, 1]])\n",
        "  return Ry\n",
        "\n",
        "def rotx(x):\n",
        "  Ry=np.array([[1, 0, 0, 0], [0, np.cos(x), -np.sin(x), 0], [0, np.sin(x), np.cos(x), 0], [0, 0, 0, 1]])\n",
        "  return Ry\n",
        "\n",
        "def trans(x):\n",
        "  H1=np.array([[1, 0, 0, x[0]], [0, 1, 0, x[1]], [0, 0, 1, x[2]], [0, 0, 0, 1]])\n",
        "  return H1\n",
        "\n",
        "L1=128\n",
        "L2=612.7\n",
        "L3=571.6\n",
        "L4=163.9\n",
        "L5=115.7\n",
        "L6=92.2\n",
        "\n",
        "x1=[0, 0, L1]\n",
        "x2=[0, 0, L2]\n",
        "x3=[0, 0, L3]\n",
        "x4=[L4, 0, 0]\n",
        "x5=[0, 0, L5]\n",
        "x6=[L6, 0, 0]\n",
        "\n",
        "T=np.dot(rotz(0), np.dot(trans(x1), np.dot(rotx(np.pi/2), np.dot(trans(x2), np.dot(rotx(np.pi/4), np.dot(trans(x3), np.dot(rotx(0), np.dot(trans(x4), np.dot(rotz(np.pi/4), np.dot(trans(x5), np.dot(rotx(0), trans(x6))))))))))))\n",
        "\n",
        "print(T)"
      ],
      "metadata": {
        "colab": {
          "base_uri": "https://localhost:8080/"
        },
        "id": "tkcqGkXobvcP",
        "outputId": "12894ec4-8a32-41dd-907c-0d1530da840d"
      },
      "execution_count": 7,
      "outputs": [
        {
          "output_type": "stream",
          "name": "stdout",
          "text": [
            "[[ 7.07106781e-01 -7.07106781e-01  0.00000000e+00  2.29095245e+02]\n",
            " [-5.00000000e-01 -5.00000000e-01 -7.07106781e-01 -1.14479449e+03]\n",
            " [ 5.00000000e-01  5.00000000e-01 -7.07106781e-01 -3.11894491e+02]\n",
            " [ 0.00000000e+00  0.00000000e+00  0.00000000e+00  1.00000000e+00]]\n"
          ]
        }
      ]
    },
    {
      "cell_type": "markdown",
      "source": [
        "**HW Excercise 3** (40 pts): \n",
        "\n",
        "4. Define DH table \n",
        "5. Implement your result from DH table \n",
        "6. Find tool pose(position and orientation) at q = (0,90,45,0,45, 0) and compare the result \n",
        "7. give the conclusion of comparation between analytical approach and DH "
      ],
      "metadata": {
        "id": "XZXVKpCOqh-o"
      }
    },
    {
      "cell_type": "markdown",
      "source": [
        "**Answer 3.**\n",
        "\n",
        "![image.png](data:image/png;base64,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)"
      ],
      "metadata": {
        "id": "KSsctWhcMUgs"
      }
    },
    {
      "cell_type": "code",
      "source": [
        "import numpy as np\n",
        "\n",
        "def hartenberg(r_n, d_n, theta_n, alpha_n):\n",
        "  H=np.array([[np.cos(theta_n), -np.sin(theta_n)*np.cos(alpha_n), np.sin(theta_n)*np.sin(alpha_n), r_n*np.cos(theta_n)], [np.sin(theta_n), np.cos(theta_n)*np.cos(alpha_n), -np.cos(theta_n)*np.sin(alpha_n), r_n*np.sin(theta_n)], [0, np.sin(alpha_n), np.cos(alpha_n), d_n], [0, 0, 0, 1]])\n",
        "  return H\n",
        "\n",
        "H1=hartenberg(0, 128, 0, -np.pi/2)\n",
        "H2=hartenberg(612.7, 0, np.pi/2, 0)\n",
        "H3=hartenberg(571.6, 0, np.pi/4, 0)\n",
        "H4=hartenberg(0, 163.9, 0, -np.pi/2)\n",
        "H5=hartenberg(0, 115.7, np.pi/4, np.pi/2)\n",
        "H6=hartenberg(0, 92.2, 0, 0)\n",
        "\n",
        "H=np.dot(H1, np.dot(H2, np.dot(H3, np.dot(H4, np.dot(H5, H6)))))\n",
        "print(H)"
      ],
      "metadata": {
        "id": "nIQC2ZXss_B8",
        "colab": {
          "base_uri": "https://localhost:8080/"
        },
        "outputId": "8114a9ff-0575-4b37-e1e7-410d56bf1b95"
      },
      "execution_count": 3,
      "outputs": [
        {
          "output_type": "stream",
          "name": "stdout",
          "text": [
            "[[-5.00000000e-01 -7.07106781e-01 -5.00000000e-01 -5.32094491e+02]\n",
            " [-7.07106781e-01 -2.53632657e-17  7.07106781e-01  2.29095245e+02]\n",
            " [-5.00000000e-01  7.07106781e-01 -5.00000000e-01 -8.53169982e+02]\n",
            " [ 0.00000000e+00  0.00000000e+00  0.00000000e+00  1.00000000e+00]]\n"
          ]
        }
      ]
    },
    {
      "cell_type": "markdown",
      "source": [
        "Except for the translations, the rotations are the same (maybe not in the same place, but same values), which means I just didn't take the same axis definition I believe.\n",
        "I believe the Denavite-Hartenberg is faster, and easier, leading to less possibilities for mistakes. \n",
        "For the first way, it was way harder to combine all the translations and the rotations and it may have lead me to mistakes in the calculations or definitions of axes."
      ],
      "metadata": {
        "id": "biRG-jFNGrMJ"
      }
    },
    {
      "cell_type": "code",
      "source": [
        ""
      ],
      "metadata": {
        "id": "2k2pRG0lVXwz"
      },
      "execution_count": null,
      "outputs": []
    }
  ]
}