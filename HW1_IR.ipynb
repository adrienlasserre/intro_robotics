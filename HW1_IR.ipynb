{
  "nbformat": 4,
  "nbformat_minor": 0,
  "metadata": {
    "colab": {
      "name": "HW1 IR",
      "provenance": [],
      "collapsed_sections": [],
      "include_colab_link": true
    },
    "kernelspec": {
      "name": "python3",
      "display_name": "Python 3"
    },
    "language_info": {
      "name": "python"
    }
  },
  "cells": [
    {
      "cell_type": "markdown",
      "metadata": {
        "id": "view-in-github",
        "colab_type": "text"
      },
      "source": [
        "<a href=\"https://colab.research.google.com/github/adrienlasserre/intro_robotics/blob/main/HW1_IR.ipynb\" target=\"_parent\"><img src=\"https://colab.research.google.com/assets/colab-badge.svg\" alt=\"Open In Colab\"/></a>"
      ]
    },
    {
      "cell_type": "markdown",
      "source": [
        "# Introduction to Robotics \n",
        "Instructor: **Voeurn Yong Ann**\n",
        "\n",
        "\n",
        "**Background**:\n",
        "\n",
        "\n",
        "\n",
        "*   Ufa state aviation technical university (Bsc. Mechatronics and Robotics, profile: Industrail robotics, 2018), \n",
        "*   Innopolis University,(Master of Computer Science, profile: Robotics and computer vision, 2019-2021) \n",
        "*   Daegu Gyeongbuk Institute of Science and Technology (DGIST),(PhD of Robotics engineer, profile:legged robotics in medical application, 2021(*Temporery withdrawal*) \n",
        "\n",
        "\n",
        "**Research interests**:\n",
        "*   Control: Nonlinear, Robust, Adaptive, Energy based, Noncolocated and Underactuated, with focus on discrete-time and physically inspired numerical methods.\n",
        "*   Applied Optimization: Linear, Quadratic, and Nonlinear programming, Dynamical programming, Optimal Control\n",
        "*   Legged robot/Humanoid robot: Walking, foot step, trajectory planing \n",
        "\n",
        "\n",
        "If you face any problems with the course or would like to do research and work on hardware. Feel free to contact me via telegram `@yongann` or email:(y.voeurn@innoplis.univerisity or yongann@armrobotics.io) i\n",
        "\n",
        "\n",
        "**Notation**\n",
        "\n",
        "1.   *CLASS EXERCISE*: These exercises we will do together during the practice sessions and discuss the results\n",
        "2.   *HW EXERCISE*: This is home assignment which I strongly recommend to complete right after the class.\n",
        "\n",
        "*You have to create a repository of your works then share the link to submit your work at Moodle.*\n",
        "\n",
        "\n",
        "***Plagiarism** will result in a zero score for the submitted assignment/exam/project.\n",
        "\n",
        "\n"
      ],
      "metadata": {
        "id": "kLPQ9GGhE-jj"
      }
    },
    {
      "cell_type": "markdown",
      "source": [
        "# LAB1: Reasoning about space\n",
        "\n",
        "\n",
        "**Goals for today**\n",
        "During today practice we will:\n",
        "\n",
        "*   Learn how to use: python function, numpy and other add-in library.\n",
        "*   Transforms/Rotation representation in 3D\n",
        "*   Write set of homogeneous tranformation\n"
      ],
      "metadata": {
        "id": "wo7zs1vFHLLv"
      }
    },
    {
      "cell_type": "markdown",
      "source": [
        "Excercise 1 : Rotattion matrix around axis z\n",
        "\n",
        "<p><img alt=\"mbk\" height=\"250px\" src=\"https://drive.google.com/uc?id=1icWPI4fmjqT6IWTe-OP7AKUT9eK83m7v\" align=\"center\" hspace=\"350px\" vspace=\"0px\"></p>\n",
        "\n",
        "\n",
        "\\begin{equation}\n",
        "\\mathbf{H_{x,\\alpha ,y}}=\n",
        "\\begin{bmatrix}\n",
        "1 & 0 & 0 & 0 \\cr 0 & \\cos\\alpha & -\\sin\\alpha & y\n",
        " \\cr 0 & \\sin\\alpha & \\cos\\alpha & 0\n",
        "\\cr 0 & 0 & 0 & 1 \n",
        "\\end{bmatrix}\n",
        "\\end{equation}\n",
        "\n",
        "\n"
      ],
      "metadata": {
        "id": "KPnf9DwDNbP0"
      }
    },
    {
      "cell_type": "code",
      "source": [
        "import numpy as np\n",
        "\n",
        "def rot_z(theta):\n",
        "    rz = np.array([[np.cos(theta), -np.sin(theta), 0], [np.sin(theta), np.cos(theta), 0], [0, 0, 1]]) \n",
        "    return rz"
      ],
      "metadata": {
        "id": "lgl7c-VAVda2"
      },
      "execution_count": null,
      "outputs": []
    },
    {
      "cell_type": "code",
      "source": [
        "r1_0= rot_z(90)\n",
        "\n",
        "print(r1_0)"
      ],
      "metadata": {
        "id": "0c82HQNiWtP1",
        "colab": {
          "base_uri": "https://localhost:8080/"
        },
        "outputId": "448e364a-ee0c-4248-9cf0-982a177f49f3"
      },
      "execution_count": null,
      "outputs": [
        {
          "output_type": "stream",
          "name": "stdout",
          "text": [
            "[[-0.44807362 -0.89399666  0.        ]\n",
            " [ 0.89399666 -0.44807362  0.        ]\n",
            " [ 0.          0.          1.        ]]\n"
          ]
        }
      ]
    },
    {
      "cell_type": "markdown",
      "source": [
        "**Class Excercise**: \n",
        "\n",
        " \n",
        "\n",
        "1.   Find value of rotation around z for 30 degree.\n",
        "\n",
        "\n"
      ],
      "metadata": {
        "id": "M158kdPZVFYQ"
      }
    },
    {
      "cell_type": "code",
      "source": [
        "# Your code here\n",
        "import numpy as np\n",
        "\n",
        "def rot_z(theta):\n",
        "    rz = np.array([[np.cos(theta), -np.sin(theta), 0], [np.sin(theta), np.cos(theta), 0], [0, 0, 1]]) \n",
        "    return rz\n",
        "\n",
        "r2=rot_z(np.pi/6)\n",
        "\n",
        "print(r2)"
      ],
      "metadata": {
        "id": "jFYBi4F6XFtU",
        "colab": {
          "base_uri": "https://localhost:8080/"
        },
        "outputId": "42555be2-71d0-4c2b-dff8-009f982497dd"
      },
      "execution_count": null,
      "outputs": [
        {
          "output_type": "stream",
          "name": "stdout",
          "text": [
            "[[ 0.8660254 -0.5        0.       ]\n",
            " [ 0.5        0.8660254  0.       ]\n",
            " [ 0.         0.         1.       ]]\n"
          ]
        }
      ]
    },
    {
      "cell_type": "markdown",
      "source": [
        "2.   Find value of x by first rotate around x for 90 degree and translation along y for 10 m "
      ],
      "metadata": {
        "id": "MxeO6ktFXFaz"
      }
    },
    {
      "cell_type": "code",
      "source": [
        "import numpy as np\n",
        "\n",
        "def rot_trans(theta, y):\n",
        "    rrt = np.array([[1, 0, 0, 0], [0, np.cos(theta), -np.sin(theta), y], [0, np.sin(theta), np.cos(theta), 0], [0, 0, 0, 1]]) \n",
        "    return rrt\n",
        "\n",
        "rx=np.array([5, 7, 2, 1]) #random point taken to try the multiplication of matrices\n",
        "r3=rot_trans(np.pi/2, 10)\n",
        "print(\"rot + trans matrix by pi/2 and 10m\")\n",
        "print(r3) #gives the rot+translation matrix\n",
        "rxn=np.dot(r3, rx)\n",
        "print(\"test vector modified\")\n",
        "print(rxn)"
      ],
      "metadata": {
        "id": "-x28hHSzKJ91",
        "colab": {
          "base_uri": "https://localhost:8080/"
        },
        "outputId": "8bb06004-9a09-46c9-883a-473ab657835e"
      },
      "execution_count": null,
      "outputs": [
        {
          "output_type": "stream",
          "name": "stdout",
          "text": [
            "rot + trans matrix by pi/2 and 10m\n",
            "[[ 1.000000e+00  0.000000e+00  0.000000e+00  0.000000e+00]\n",
            " [ 0.000000e+00  6.123234e-17 -1.000000e+00  1.000000e+01]\n",
            " [ 0.000000e+00  1.000000e+00  6.123234e-17  0.000000e+00]\n",
            " [ 0.000000e+00  0.000000e+00  0.000000e+00  1.000000e+00]]\n",
            "test vector modified\n",
            "[5. 8. 7. 1.]\n"
          ]
        }
      ]
    },
    {
      "cell_type": "markdown",
      "source": [
        "**Class Excercise** : \n",
        "\n",
        "There is a robot work station as shown in the picture below. \n",
        "\n",
        "1. define tranformation of absolute task (Task Frame $RF_T$ to World Frame  $RF_W$)\n",
        "\n",
        "2. Find robot tool tranformation (Base frame $RF_B$ to End-effector frame $RF_E$)\n",
        "\n",
        "<p><img alt=\"mbk\" height=\"250px\" src=\"https://drive.google.com/uc?id=1hUdzOU9yNPuoN_yXFf-tKQAjRldny2rW\" align=\"center\" hspace=\"350px\" vspace=\"0px\"></p>"
      ],
      "metadata": {
        "id": "os398Nq1fLiH"
      }
    },
    {
      "cell_type": "markdown",
      "source": [
        "$T_E^B = (T_B^W)^-1 T_T^W (T_T^E)^-1$"
      ],
      "metadata": {
        "id": "GmjLDbgg4R81"
      }
    },
    {
      "cell_type": "code",
      "source": [
        "import numpy as np\n",
        "#simple translation by an array x, y ,z for a frame to another\n",
        "x0=0 #coordinates of origin system 0,0,0\n",
        "y0=0\n",
        "z0=0\n",
        "\n",
        "def trans(x):\n",
        "  H1=np.array([[1, 0, 0, x[0]], [0, 1, 0, x[1]], [0, 0, 1, x[2]], [0, 0, 0, 1]])\n",
        "  return H1\n",
        "\n",
        "RFW=np.array([x0, y0, z0, 1])\n",
        "RFT=np.dot(trans([10, 15, 5]), RFW) #random values for translations\n",
        "\n",
        "print(RFT)"
      ],
      "metadata": {
        "id": "cEfQmNn0dfDv",
        "colab": {
          "base_uri": "https://localhost:8080/"
        },
        "outputId": "c358f7d0-b79f-4c28-8739-a9052e2737bd"
      },
      "execution_count": null,
      "outputs": [
        {
          "output_type": "stream",
          "name": "stdout",
          "text": [
            "[10 15  5  1]\n"
          ]
        }
      ]
    },
    {
      "cell_type": "markdown",
      "source": [
        "**Class Excercise** : \n",
        "\n",
        "Homogeneous transformation matrix and SO(3) matrices \n",
        "\n",
        "\n",
        "\n",
        "<p><img alt=\"mbk\" height=\"250px\" src=\"https://images.squarespace-cdn.com/content/v1/523c5c56e4b0abc2df5e163e/1402307705392-63DLV0PH4GR9E4EQELAU/image-asset.png?format=1000w\" align=\"center\" hspace=\"350px\" vspace=\"0px\"></p>\n",
        "\n",
        "\n",
        "\n",
        "\n",
        "\n",
        "\n",
        "http://paulfurgale.info/news/2014/6/9/representing-robot-pose-the-good-the-bad-and-the-ugly\n",
        "\n",
        "**spatialmath-python**\n",
        "\n",
        "https://github.com/petercorke/spatialmath-python\n",
        "\n",
        "\n"
      ],
      "metadata": {
        "id": "c1H60xeejnn9"
      }
    },
    {
      "cell_type": "code",
      "source": [
        "!git clone https://github.com/petercorke/spatialmath-python.git\n",
        "# !cd spatialmath-python\n",
        "# !pip install -e ."
      ],
      "metadata": {
        "id": "UX3PJfpzlBmS",
        "colab": {
          "base_uri": "https://localhost:8080/"
        },
        "outputId": "2ca4f4a5-2598-468e-c8cb-e596f027b81f"
      },
      "execution_count": null,
      "outputs": [
        {
          "output_type": "stream",
          "name": "stdout",
          "text": [
            "Cloning into 'spatialmath-python'...\n",
            "remote: Enumerating objects: 7682, done.\u001b[K\n",
            "remote: Counting objects: 100% (2765/2765), done.\u001b[K\n",
            "remote: Compressing objects: 100% (943/943), done.\u001b[K\n",
            "remote: Total 7682 (delta 2246), reused 2283 (delta 1811), pack-reused 4917\u001b[K\n",
            "Receiving objects: 100% (7682/7682), 17.89 MiB | 13.27 MiB/s, done.\n",
            "Resolving deltas: 100% (5938/5938), done.\n"
          ]
        }
      ]
    },
    {
      "cell_type": "code",
      "source": [
        "!pip install /content/spatialmath-python"
      ],
      "metadata": {
        "id": "YKv35gdflv-R",
        "colab": {
          "base_uri": "https://localhost:8080/"
        },
        "outputId": "d9d337a4-e143-442e-ff63-92583edce00d"
      },
      "execution_count": null,
      "outputs": [
        {
          "output_type": "stream",
          "name": "stdout",
          "text": [
            "Processing ./spatialmath-python\n",
            "\u001b[33m  DEPRECATION: A future pip version will change local packages to be built in-place without first copying to a temporary directory. We recommend you use --use-feature=in-tree-build to test your packages with this new behavior before it becomes the default.\n",
            "   pip 21.3 will remove support for this functionality. You can find discussion regarding this at https://github.com/pypa/pip/issues/7555.\u001b[0m\n",
            "Requirement already satisfied: numpy in /usr/local/lib/python3.7/dist-packages (from spatialmath-python==0.12.0) (1.21.5)\n",
            "Requirement already satisfied: scipy in /usr/local/lib/python3.7/dist-packages (from spatialmath-python==0.12.0) (1.4.1)\n",
            "Requirement already satisfied: matplotlib in /usr/local/lib/python3.7/dist-packages (from spatialmath-python==0.12.0) (3.2.2)\n",
            "Collecting colored\n",
            "  Downloading colored-1.4.3.tar.gz (29 kB)\n",
            "Collecting ansitable\n",
            "  Downloading ansitable-0.9.6.tar.gz (17 kB)\n",
            "Requirement already satisfied: cycler>=0.10 in /usr/local/lib/python3.7/dist-packages (from matplotlib->spatialmath-python==0.12.0) (0.11.0)\n",
            "Requirement already satisfied: kiwisolver>=1.0.1 in /usr/local/lib/python3.7/dist-packages (from matplotlib->spatialmath-python==0.12.0) (1.3.2)\n",
            "Requirement already satisfied: python-dateutil>=2.1 in /usr/local/lib/python3.7/dist-packages (from matplotlib->spatialmath-python==0.12.0) (2.8.2)\n",
            "Requirement already satisfied: pyparsing!=2.0.4,!=2.1.2,!=2.1.6,>=2.0.1 in /usr/local/lib/python3.7/dist-packages (from matplotlib->spatialmath-python==0.12.0) (3.0.7)\n",
            "Requirement already satisfied: six>=1.5 in /usr/local/lib/python3.7/dist-packages (from python-dateutil>=2.1->matplotlib->spatialmath-python==0.12.0) (1.15.0)\n",
            "Building wheels for collected packages: spatialmath-python, ansitable, colored\n",
            "  Building wheel for spatialmath-python (setup.py) ... \u001b[?25l\u001b[?25hdone\n",
            "  Created wheel for spatialmath-python: filename=spatialmath_python-0.12.0-py3-none-any.whl size=178301 sha256=bd186ff8ce77384da73882322ffd45c226139e5628ae34af2217905bf39c26aa\n",
            "  Stored in directory: /root/.cache/pip/wheels/8b/8a/c9/5d5696150da6a20392c3a728f9de76517f6f7d7c87c418d586\n",
            "  Building wheel for ansitable (setup.py) ... \u001b[?25l\u001b[?25hdone\n",
            "  Created wheel for ansitable: filename=ansitable-0.9.6-py3-none-any.whl size=12621 sha256=278accb0704aa05a83a4db1395d63becf99cd0d88bc2b2ce54c746ad9374983a\n",
            "  Stored in directory: /root/.cache/pip/wheels/57/a4/a9/84ed983596f261a978c880aba60eba145e76aa5a59e455f189\n",
            "  Building wheel for colored (setup.py) ... \u001b[?25l\u001b[?25hdone\n",
            "  Created wheel for colored: filename=colored-1.4.3-py3-none-any.whl size=14342 sha256=c24fbefbe74e444c2977697591b30edac07a11dc610300c47020c9feb5b0a15c\n",
            "  Stored in directory: /root/.cache/pip/wheels/4a/f6/00/835e81851bc345428a253721c8bdad0062721dfb861bc6e752\n",
            "Successfully built spatialmath-python ansitable colored\n",
            "Installing collected packages: colored, ansitable, spatialmath-python\n",
            "Successfully installed ansitable-0.9.6 colored-1.4.3 spatialmath-python-0.12.0\n"
          ]
        }
      ]
    },
    {
      "cell_type": "code",
      "source": [
        "from spatialmath import *\n",
        "\n",
        "R1 = SO3.Rx(np.pi/2)\n",
        "R2 = SO3.Rx(np.pi/3)\n",
        "\n",
        "R1.plot()\n",
        "R2.plot()"
      ],
      "metadata": {
        "id": "cfFxqtUTmByz",
        "colab": {
          "base_uri": "https://localhost:8080/",
          "height": 303
        },
        "outputId": "1dadb895-cf72-47e3-f666-c1ece35aa286"
      },
      "execution_count": null,
      "outputs": [
        {
          "output_type": "stream",
          "name": "stderr",
          "text": [
            "/usr/local/lib/python3.7/dist-packages/spatialmath/base/graphics.py:1192: MatplotlibDeprecationWarning: Adding an axes using the same arguments as a previous axes currently reuses the earlier instance.  In a future version, a new instance will always be created and returned.  Meanwhile, this warning can be suppressed, and the future behavior ensured, by passing a unique label to each axes instance.\n",
            "  plt.axes(ax)\n"
          ]
        },
        {
          "output_type": "display_data",
          "data": {
            "image/png": "[encoded data removed]",
            "text/plain": [
              "<Figure size 432x288 with 1 Axes>"
            ]
          },
          "metadata": {
            "needs_background": "light"
          }
        }
      ]
    },
    {
      "cell_type": "code",
      "source": [
        "\n",
        "T1 = SE3(0,0,0)\n",
        "T = T1*SE3(1,2,3) * SE3.Rx(30, 'deg')\n",
        "\n",
        "T1.plot()\n",
        "T.plot()\n",
        "\n",
        "T"
      ],
      "metadata": {
        "id": "NGuYi4eOnWXy",
        "colab": {
          "base_uri": "https://localhost:8080/",
          "height": 372
        },
        "outputId": "48040e7b-85cc-43f1-9811-e0f43ce58698"
      },
      "execution_count": null,
      "outputs": [
        {
          "output_type": "stream",
          "name": "stderr",
          "text": [
            "/usr/local/lib/python3.7/dist-packages/spatialmath/base/graphics.py:1192: MatplotlibDeprecationWarning: Adding an axes using the same arguments as a previous axes currently reuses the earlier instance.  In a future version, a new instance will always be created and returned.  Meanwhile, this warning can be suppressed, and the future behavior ensured, by passing a unique label to each axes instance.\n",
            "  plt.axes(ax)\n"
          ]
        },
        {
          "output_type": "execute_result",
          "data": {
            "text/plain": [
              "   1         0         0         1         \n",
              "   0         0.866    -0.5       2         \n",
              "   0         0.5       0.866     3         \n",
              "   0         0         0         1         \n"
            ]
          },
          "metadata": {},
          "execution_count": 46
        },
        {
          "output_type": "display_data",
          "data": {
            "image/png": "[encoded data removed]",
            "text/plain": [
              "<Figure size 432x288 with 1 Axes>"
            ]
          },
          "metadata": {
            "needs_background": "light"
          }
        }
      ]
    },
    {
      "cell_type": "markdown",
      "source": [
        "**HW Excercise 1** (20 pts): \n",
        "\n",
        "Consider the wedge-shaped object in figure below. Obtain the transformation matrix **H** that should be applied to take the object from the original (left) to its final location (right).\n",
        "\n",
        "<p><img alt=\"mbk\" height=\"250px\" src=\"https://drive.google.com/uc?id=1UjWpoNM8A4OOqcizoTevj_806BSPzIPt\" align=\"center\" hspace=\"350px\" vspace=\"0px\"></p>"
      ],
      "metadata": {
        "id": "DkvYlIXqqY6i"
      }
    },
    {
      "cell_type": "code",
      "source": [
        "from spatialmath import *\n",
        "\n",
        "#for the translation is it 1 in y axis or z axis?\n",
        "\n",
        "import numpy as np\n",
        "\n",
        "T1=SE3(0,0,0)\n",
        "T2=T1*SE3(1.5, 1, 0)\n",
        "R1=T2*SE3.Ry(np.pi/2)\n",
        "R2 = R1*SE3.Rx(-np.pi/2)\n",
        "\n",
        "T1.plot()\n",
        "R2.plot()\n",
        "\n",
        "R2\n"
      ],
      "metadata": {
        "id": "4o1IkkiF7EFU",
        "colab": {
          "base_uri": "https://localhost:8080/",
          "height": 372
        },
        "outputId": "a86867c7-c440-4c4e-c869-614f5de7c586"
      },
      "execution_count": null,
      "outputs": [
        {
          "output_type": "stream",
          "name": "stderr",
          "text": [
            "/usr/local/lib/python3.7/dist-packages/spatialmath/base/graphics.py:1192: MatplotlibDeprecationWarning: Adding an axes using the same arguments as a previous axes currently reuses the earlier instance.  In a future version, a new instance will always be created and returned.  Meanwhile, this warning can be suppressed, and the future behavior ensured, by passing a unique label to each axes instance.\n",
            "  plt.axes(ax)\n"
          ]
        },
        {
          "output_type": "execute_result",
          "data": {
            "text/plain": [
              "   0        -1         0         1.5       \n",
              "   0         0         1         1         \n",
              "  -1         0         0         0         \n",
              "   0         0         0         1         \n"
            ]
          },
          "metadata": {},
          "execution_count": 19
        },
        {
          "output_type": "display_data",
          "data": {
            "text/plain": [
              "<Figure size 432x288 with 1 Axes>"
            ],
            "image/png": "[encoded data removed]"
          },
          "metadata": {
            "needs_background": "light"
          }
        }
      ]
    },
    {
      "cell_type": "markdown",
      "source": [
        "**HW Excercise 2** (20 pts): \n",
        "\n",
        "Create a function for calculating Denavit-Hartenberg convention\n"
      ],
      "metadata": {
        "id": "XZXVKpCOqh-o"
      }
    },
    {
      "cell_type": "code",
      "source": [
        "from spatialmath import *\n",
        "import numpy as np\n",
        "\n",
        "def hartenberg(r_n, d_n, theta_n, alpha_n):\n",
        "  H=np.array([[np.cos(theta_n), -np.sin(theta_n)*np.cos(alpha_n), np.sin(theta_n)*np.sin(alpha_n), r_n*np.cos(theta_n)], [np.sin(theta_n), np.cos(theta_n)*np.cos(alpha_n), -np.cos(theta_n)*np.sin(alpha_n), r_n*np.sin(theta_n)], [0, np.sin(alpha_n), np.cos(alpha_n), d_n], [0, 0, 0, 1]])\n",
        "  return H\n",
        "\n",
        "X=np.array([1, 2, 3, 1]) #test vector\n",
        "H1= hartenberg(5, 10, np.pi/3, np.pi/6) #random values for r_n, d_n, and alpha and theta\n",
        "\n",
        "print(H1)\n",
        "\n",
        "Y=np.dot(H1, X) #vector modified\n",
        "print(\n",
        "\n",
        "  \"Vector modified by Denavit-Hartenberg matrix:\"  \n",
        ")\n",
        "\n",
        "print(Y)"
      ],
      "metadata": {
        "id": "bIXtqBoMqsB3",
        "colab": {
          "base_uri": "https://localhost:8080/"
        },
        "outputId": "1e078ac9-1f64-4653-8e65-412e4aec66be"
      },
      "execution_count": null,
      "outputs": [
        {
          "output_type": "stream",
          "name": "stdout",
          "text": [
            "[[ 0.5        -0.75        0.4330127   2.5       ]\n",
            " [ 0.8660254   0.4330127  -0.25        4.33012702]\n",
            " [ 0.          0.5         0.8660254  10.        ]\n",
            " [ 0.          0.          0.          1.        ]]\n",
            "Vector modified by Denavit-Hartenberg matrix:\n",
            "[ 2.79903811  5.31217783 13.59807621  1.        ]\n"
          ]
        }
      ]
    },
    {
      "cell_type": "markdown",
      "source": [
        "**HW Excercise 3** (10 pts) Convert *Euler Angles* (0, $\\pi$/2, 0) to *Homogeneous Transformation* Matrix"
      ],
      "metadata": {
        "id": "cD2z4ayPpLtp"
      }
    },
    {
      "cell_type": "code",
      "source": [
        "from spatialmath import *\n",
        "import numpy as np\n",
        "\n",
        "#Here is a version of what we can do, using the lectures' notes\n",
        "\n",
        "def rotz(phi):\n",
        "  Rz=np.array([[np.cos(phi), -np.sin(phi), 0], [np.sin(phi), np.cos(phi), 0], [0, 0, 1]])\n",
        "  return Rz\n",
        "\n",
        "def roty(x):\n",
        "  Ry=np.array([[np.cos(x), 0, np.sin(x)], [0, 1, 0], [-np.sin(x), 0, np.cos(x)]])\n",
        "  return Ry\n",
        "\n",
        "R1=rotz(0)\n",
        "R2=roty(np.pi/2)\n",
        "R3=rotz(0)\n",
        "R=np.dot(R1, R2, R3)\n",
        "\n",
        "print(\"First method\")\n",
        "print(R)\n",
        "\n",
        "#We could also do it just this way\n",
        "\n",
        "Rr=SO3.Ry(np.pi/2)\n",
        "print(\"Second method\")\n",
        "print(Rr)\n"
      ],
      "metadata": {
        "id": "XvPtQFp4qtX8",
        "colab": {
          "base_uri": "https://localhost:8080/"
        },
        "outputId": "9cfd2c10-7ac5-44a4-df75-d11d6f821d36"
      },
      "execution_count": null,
      "outputs": [
        {
          "output_type": "stream",
          "name": "stdout",
          "text": [
            "First method\n",
            "[[ 6.123234e-17  0.000000e+00  1.000000e+00]\n",
            " [ 0.000000e+00  1.000000e+00  0.000000e+00]\n",
            " [-1.000000e+00  0.000000e+00  6.123234e-17]]\n",
            "Second method\n",
            "   0         0         1         \n",
            "   0         1         0         \n",
            "  -1         0         0         \n",
            "\n"
          ]
        }
      ]
    },
    {
      "cell_type": "markdown",
      "source": [
        "**HW Excercise 4** (50 pts) Given the fact that any rotation matrix $R(θ) ∈ SO(3)$ is orthogonal i.e $R(θ)^TR(θ) = I$, prove the following:\n",
        "\n",
        "\n",
        "1.   $R^T(θ) = R^{-1}(θ)$ (10 pts)\n",
        "2.   $det\\{R(θ)\\} = 1$ (10 pts)\n",
        "3.   $\\|a\\| = \\|b\\| ; \\forall a, b : a = R(θ)b$ (15 pts)\n",
        "3.   $\\frac{d}{dθ}R(θ) = SR(θ)$, where $S + S^T = 0 $(15 pts)\n",
        "\n",
        "Using results from above, find(20 pts):\n",
        "\n",
        "\n",
        "*   $S_a$ such $a\\times b = S_ab$ (bonus problem)\n",
        "*   \\* $\\dot a$ in terms of $S, R(θ),\\dot{\\theta}$ if $a = R(θ)b ; \\dot B = 0$\n",
        "= 0 (bonus problem)\n",
        "\n",
        "\n"
      ],
      "metadata": {
        "id": "_APyYhPjZBun"
      }
    },
    {
      "cell_type": "markdown",
      "source": [
        "**Exercise 4 HW - Answer sheet**\n",
        "1. $R(θ)^T R(θ) = I $ \n",
        "So with that we know that we can apply the inverse matrix on both sides such as:\n",
        "$R(θ)^T R(θ) R(θ)^{-1}= I R(θ)^{-1}$\n",
        "Which is equal to\n",
        "$R(θ)^T=R(θ)^{-1}$\n",
        "2. The determinant of any rotation matrix is equal to $det(R(θ))=cos(θ)^2 + sin(θ)^2 = 1$ \n",
        "It can be shown by calculating dets for Rotation by x, y and z axis.\n",
        "3. As we prooved $det(R(θ)) = 1$ We can show that:\n",
        "$∥R(θ)b∥≤∥R(θ)∥∥b∥=∥b∥$\n",
        "and then $∥R(θ)b∥≥∥b∥$ using $R(θ)^T=R(θ)^{-1}$ \n",
        "\n",
        "So, $||a||=||b||$, if $a=R(θ)b$\n",
        "\n",
        "4. $\\frac{d}{dθ}R(θ) = SR(θ)$, where $S + S^T = 0 $\n",
        "\n",
        "For that, we will first go by saying\n",
        "$R R^T=I$ for rotation matrices\n",
        "then $R(θ)R(θ)^T=I$\n",
        "if we take the derivative it will give us:\n",
        "$\\frac{d}{dθ}R(θ)R(θ)^T +R(θ)\\frac{d}{dθ}R(θ)^T = \\frac{d}{dθ} I = 0$\n",
        "Then, we get with $(AB)^T = B^T A^T$ that:\n",
        "$\\frac{d}{dθ}R(θ)R(θ)^T + (\\frac{d}{dθ}R(θ)R(θ)^T)^T = 0$\n",
        "We can say it is the skew symmetric matrix S\n",
        "and $S + S^T = 0$\n",
        "then $S =\\frac{d}{dθ}R(θ)R(θ)^T$\n",
        "and so we get back to what we wanted to show:\n",
        "$SR(θ)=\\frac{d}{dθ}R(θ)R(θ)^T R(θ) = \\frac{d}{dθ}R(θ) I = \\frac{d}{dθ}R(θ)$\n",
        "\n",
        "5. $S_a$ such $a\\times b = S_ab$ (bonus problem)\n",
        "\n",
        "take $a=(a,b,c)$ and $b=(x,y,z)$\n",
        "Then:\n",
        "$S(a)=((0, -c, b), (c, 0, -a), (-b, a, 0))$\n",
        "and then multiplying\n",
        "$S(a)b=(-cy+bz, cx-az, -bx+ay)$\n",
        "and using cross product properties we get the same\n",
        "$a × b = (-cy+bz, cx-az, -bx+ay)$\n",
        "\n",
        "So, $S_a$ such $a\\times b = S_ab$\n"
      ],
      "metadata": {
        "id": "ukFu4X4a2iNb"
      }
    }
  ]
}